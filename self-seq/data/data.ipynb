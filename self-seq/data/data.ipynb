{
 "cells": [
  {
   "cell_type": "code",
   "execution_count": 1,
   "metadata": {},
   "outputs": [],
   "source": [
    "import pandas as pd\n"
   ]
  },
  {
   "cell_type": "code",
   "execution_count": 2,
   "metadata": {},
   "outputs": [],
   "source": [
    "alpaca_path = 'alpaca/alpaca-cleaned_34493.jsonl'\n",
    "alpaca = pd.read_json(alpaca_path, lines=True)"
   ]
  },
  {
   "cell_type": "code",
   "execution_count": 4,
   "metadata": {},
   "outputs": [
    {
     "name": "stdout",
     "output_type": "stream",
     "text": [
      "17246 17247\n"
     ]
    }
   ],
   "source": [
    "# sample 400\n",
    "# split into half for alpaca\n",
    "alpaca_1 = alpaca.sample(len(alpaca)//2)\n",
    "alpaca_2 = alpaca.drop(alpaca_1.index)\n",
    "print(len(alpaca_1), len(alpaca_2))"
   ]
  },
  {
   "cell_type": "code",
   "execution_count": 5,
   "metadata": {},
   "outputs": [],
   "source": [
    "# save as alpaca_split_1 and alpaca_split_2\n",
    "alpaca_1.to_json('alpaca/alpaca-split_1.jsonl', orient='records', lines=True)\n",
    "alpaca_2.to_json('alpaca/alpaca-split_2.jsonl', orient='records', lines=True)"
   ]
  },
  {
   "cell_type": "code",
   "execution_count": 4,
   "metadata": {},
   "outputs": [],
   "source": [
    "# mkdir an folder called alpaca_test and create two file with 250 samples each\n",
    "alpaca_test1 = alpaca.iloc[:250]\n",
    "alpaca_test2 = alpaca.iloc[250:]\n",
    "import os\n",
    "os.makedirs('alpaca_test', exist_ok=True)\n",
    "alpaca_test1.to_json('alpaca_test/alpaca_test1.jsonl', lines=True, orient='records')\n",
    "alpaca_test2.to_json('alpaca_test/alpaca_test2.jsonl', lines=True, orient='records')"
   ]
  },
  {
   "cell_type": "code",
   "execution_count": null,
   "metadata": {},
   "outputs": [],
   "source": []
  }
 ],
 "metadata": {
  "kernelspec": {
   "display_name": "robust",
   "language": "python",
   "name": "python3"
  },
  "language_info": {
   "codemirror_mode": {
    "name": "ipython",
    "version": 3
   },
   "file_extension": ".py",
   "mimetype": "text/x-python",
   "name": "python",
   "nbconvert_exporter": "python",
   "pygments_lexer": "ipython3",
   "version": "3.8.0"
  },
  "orig_nbformat": 4
 },
 "nbformat": 4,
 "nbformat_minor": 2
}
